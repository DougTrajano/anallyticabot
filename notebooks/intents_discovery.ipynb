{
 "cells": [
  {
   "cell_type": "markdown",
   "metadata": {},
   "source": [
    "# Decomposition Analysis\n",
    "\n",
    "The purpose of this analysis is to show the examples and intentions in a two-dimensional chart (Bubble Chart).\n",
    "\n",
    "You can have the prepared data to import it on your own visualization tool (Tableau, Power BI, etc.).\n",
    "\n",
    "## Index\n",
    "\n",
    "- [Load libs and define parameters](#Load-libs-and-define-parameters)\n",
    "- [Load data](#Load-data)\n",
    "- [Intents Discovery](#IntentsDiscovery)\n",
    "- [Examples PCA](#Examples-PCA)\n",
    "- [Intents PCA](#Intents-PCA)"
   ]
  },
  {
   "cell_type": "markdown",
   "metadata": {},
   "source": [
    "## Load libs and define parameters"
   ]
  },
  {
   "cell_type": "code",
   "execution_count": 1,
   "metadata": {},
   "outputs": [],
   "source": [
    "## Add root path\n",
    "import os,sys,inspect\n",
    "currentdir = os.path.dirname(os.path.abspath(inspect.getfile(inspect.currentframe())))\n",
    "parentdir = os.path.dirname(currentdir)\n",
    "sys.path.insert(0,parentdir)"
   ]
  },
  {
   "cell_type": "code",
   "execution_count": 2,
   "metadata": {},
   "outputs": [],
   "source": [
    "# Imports\n",
    "import numpy as np\n",
    "import pandas as pd\n",
    "from intents.discovery import IntentsDiscovery"
   ]
  },
  {
   "cell_type": "code",
   "execution_count": 3,
   "metadata": {},
   "outputs": [],
   "source": [
    "# Parameters\n",
    "parameters = {\n",
    "    \"remove_stopwords\": True,\n",
    "    \"stopwords_file\": \"stopwords_ptBR.txt\"\n",
    "}"
   ]
  },
  {
   "cell_type": "markdown",
   "metadata": {},
   "source": [
    "## Load data"
   ]
  },
  {
   "cell_type": "code",
   "execution_count": 4,
   "metadata": {},
   "outputs": [
    {
     "name": "stdout",
     "output_type": "stream",
     "text": [
      "(1763, 1)\n"
     ]
    },
    {
     "data": {
      "text/html": [
       "<div>\n",
       "<style scoped>\n",
       "    .dataframe tbody tr th:only-of-type {\n",
       "        vertical-align: middle;\n",
       "    }\n",
       "\n",
       "    .dataframe tbody tr th {\n",
       "        vertical-align: top;\n",
       "    }\n",
       "\n",
       "    .dataframe thead th {\n",
       "        text-align: right;\n",
       "    }\n",
       "</style>\n",
       "<table border=\"1\" class=\"dataframe\">\n",
       "  <thead>\n",
       "    <tr style=\"text-align: right;\">\n",
       "      <th></th>\n",
       "      <th>examples</th>\n",
       "    </tr>\n",
       "  </thead>\n",
       "  <tbody>\n",
       "    <tr>\n",
       "      <th>0</th>\n",
       "      <td>O que devo fazer se o adesivo “informações sob...</td>\n",
       "    </tr>\n",
       "    <tr>\n",
       "      <th>1</th>\n",
       "      <td>Pode explicar o procedimento para ativar um no...</td>\n",
       "    </tr>\n",
       "    <tr>\n",
       "      <th>2</th>\n",
       "      <td>Posso ativar meu cartão de crédito do celulare...</td>\n",
       "    </tr>\n",
       "    <tr>\n",
       "      <th>3</th>\n",
       "      <td>É possível reativar um cartão cancelado anteri...</td>\n",
       "    </tr>\n",
       "    <tr>\n",
       "      <th>4</th>\n",
       "      <td>Quais são as etapas que precisam ser seguidas ...</td>\n",
       "    </tr>\n",
       "  </tbody>\n",
       "</table>\n",
       "</div>"
      ],
      "text/plain": [
       "                                            examples\n",
       "0  O que devo fazer se o adesivo “informações sob...\n",
       "1  Pode explicar o procedimento para ativar um no...\n",
       "2  Posso ativar meu cartão de crédito do celulare...\n",
       "3  É possível reativar um cartão cancelado anteri...\n",
       "4  Quais são as etapas que precisam ser seguidas ..."
      ]
     },
     "execution_count": 4,
     "metadata": {},
     "output_type": "execute_result"
    }
   ],
   "source": [
    "df = pd.read_csv(\"unlabeled_examples.csv\", names=[\"examples\"])\n",
    "print(df.shape)\n",
    "df.head()"
   ]
  },
  {
   "cell_type": "markdown",
   "metadata": {},
   "source": [
    "## IntentsDiscovery\n",
    "\n",
    "In the next part, we'll use **IntentsDiscovey** class to preprocessing data, find the best number for `n_clusters` and get labels for a dataset of examples.\n",
    "\n",
    "`search_n_clusters()` function uses an early stopping based on silhouette score."
   ]
  },
  {
   "cell_type": "code",
   "execution_count": 10,
   "metadata": {},
   "outputs": [
    {
     "name": "stderr",
     "output_type": "stream",
     "text": [
      "WARNING:root:search n_clusters: {'kmeans_score': -1710.325630898967, 'silhouette_score': 0.009192818796864387, 'n_clusters': 2}\n",
      "WARNING:root:search n_clusters: {'kmeans_score': -1694.4008324000456, 'silhouette_score': 0.011969346546301078, 'n_clusters': 3}\n",
      "WARNING:root:search n_clusters: {'kmeans_score': -1680.735434926237, 'silhouette_score': 0.013781805879148982, 'n_clusters': 4}\n",
      "WARNING:root:search n_clusters: {'kmeans_score': -1669.4824053354387, 'silhouette_score': 0.01534319863658, 'n_clusters': 5}\n",
      "WARNING:root:search n_clusters: {'kmeans_score': -1660.5802428292372, 'silhouette_score': 0.016802498253325138, 'n_clusters': 6}\n",
      "WARNING:root:search n_clusters: {'kmeans_score': -1656.0570783530286, 'silhouette_score': 0.017546480364634437, 'n_clusters': 7}\n",
      "WARNING:root:search n_clusters: {'kmeans_score': -1644.3385182462669, 'silhouette_score': 0.01866890366868336, 'n_clusters': 8}\n",
      "WARNING:root:search n_clusters: {'kmeans_score': -1636.0244030558633, 'silhouette_score': 0.02049099885078484, 'n_clusters': 9}\n",
      "WARNING:root:search n_clusters: {'kmeans_score': -1629.039291227393, 'silhouette_score': 0.02091176747394163, 'n_clusters': 10}\n",
      "WARNING:root:search n_clusters: {'kmeans_score': -1623.575427628879, 'silhouette_score': 0.01885197609850528, 'n_clusters': 11}\n",
      "WARNING:root:search n_clusters: {'kmeans_score': -1615.401648987162, 'silhouette_score': 0.020340613869270108, 'n_clusters': 12}\n",
      "WARNING:root:search n_clusters: {'kmeans_score': -1613.866742409546, 'silhouette_score': 0.020154656330633847, 'n_clusters': 13}\n",
      "WARNING:root:best n_clusters: 12\n"
     ]
    },
    {
     "data": {
      "text/plain": [
       "12"
      ]
     },
     "execution_count": 10,
     "metadata": {},
     "output_type": "execute_result"
    }
   ],
   "source": [
    "# Instantiate an object of IntentsDiscovery class\n",
    "intents_discovery = IntentsDiscovery(data=df[\"examples\"].tolist())\n",
    "\n",
    "# Apply preprocessing on dataset\n",
    "intents_discovery.text_processing(stopwords=parameters[\"remove_stopwords\"],\n",
    "                                  stopwords_file=parameters[\"stopwords_file\"])\n",
    "\n",
    "# Find best n_clusters\n",
    "intents_discovery.search_n_clusters()"
   ]
  },
  {
   "cell_type": "markdown",
   "metadata": {},
   "source": [
    "## Analyse scores for each n_clusters tested"
   ]
  },
  {
   "cell_type": "code",
   "execution_count": 11,
   "metadata": {},
   "outputs": [
    {
     "data": {
      "text/html": [
       "<div>\n",
       "<style scoped>\n",
       "    .dataframe tbody tr th:only-of-type {\n",
       "        vertical-align: middle;\n",
       "    }\n",
       "\n",
       "    .dataframe tbody tr th {\n",
       "        vertical-align: top;\n",
       "    }\n",
       "\n",
       "    .dataframe thead th {\n",
       "        text-align: right;\n",
       "    }\n",
       "</style>\n",
       "<table border=\"1\" class=\"dataframe\">\n",
       "  <thead>\n",
       "    <tr style=\"text-align: right;\">\n",
       "      <th></th>\n",
       "      <th>kmeans_score</th>\n",
       "      <th>silhouette_score</th>\n",
       "      <th>n_clusters</th>\n",
       "    </tr>\n",
       "  </thead>\n",
       "  <tbody>\n",
       "    <tr>\n",
       "      <th>0</th>\n",
       "      <td>-1710.325631</td>\n",
       "      <td>0.009193</td>\n",
       "      <td>2</td>\n",
       "    </tr>\n",
       "    <tr>\n",
       "      <th>1</th>\n",
       "      <td>-1694.400832</td>\n",
       "      <td>0.011969</td>\n",
       "      <td>3</td>\n",
       "    </tr>\n",
       "    <tr>\n",
       "      <th>2</th>\n",
       "      <td>-1680.735435</td>\n",
       "      <td>0.013782</td>\n",
       "      <td>4</td>\n",
       "    </tr>\n",
       "    <tr>\n",
       "      <th>3</th>\n",
       "      <td>-1669.482405</td>\n",
       "      <td>0.015343</td>\n",
       "      <td>5</td>\n",
       "    </tr>\n",
       "    <tr>\n",
       "      <th>4</th>\n",
       "      <td>-1660.580243</td>\n",
       "      <td>0.016802</td>\n",
       "      <td>6</td>\n",
       "    </tr>\n",
       "    <tr>\n",
       "      <th>5</th>\n",
       "      <td>-1656.057078</td>\n",
       "      <td>0.017546</td>\n",
       "      <td>7</td>\n",
       "    </tr>\n",
       "    <tr>\n",
       "      <th>6</th>\n",
       "      <td>-1644.338518</td>\n",
       "      <td>0.018669</td>\n",
       "      <td>8</td>\n",
       "    </tr>\n",
       "    <tr>\n",
       "      <th>7</th>\n",
       "      <td>-1636.024403</td>\n",
       "      <td>0.020491</td>\n",
       "      <td>9</td>\n",
       "    </tr>\n",
       "    <tr>\n",
       "      <th>8</th>\n",
       "      <td>-1629.039291</td>\n",
       "      <td>0.020912</td>\n",
       "      <td>10</td>\n",
       "    </tr>\n",
       "    <tr>\n",
       "      <th>9</th>\n",
       "      <td>-1623.575428</td>\n",
       "      <td>0.018852</td>\n",
       "      <td>11</td>\n",
       "    </tr>\n",
       "    <tr>\n",
       "      <th>10</th>\n",
       "      <td>-1615.401649</td>\n",
       "      <td>0.020341</td>\n",
       "      <td>12</td>\n",
       "    </tr>\n",
       "    <tr>\n",
       "      <th>11</th>\n",
       "      <td>-1613.866742</td>\n",
       "      <td>0.020155</td>\n",
       "      <td>13</td>\n",
       "    </tr>\n",
       "  </tbody>\n",
       "</table>\n",
       "</div>"
      ],
      "text/plain": [
       "    kmeans_score  silhouette_score  n_clusters\n",
       "0   -1710.325631          0.009193           2\n",
       "1   -1694.400832          0.011969           3\n",
       "2   -1680.735435          0.013782           4\n",
       "3   -1669.482405          0.015343           5\n",
       "4   -1660.580243          0.016802           6\n",
       "5   -1656.057078          0.017546           7\n",
       "6   -1644.338518          0.018669           8\n",
       "7   -1636.024403          0.020491           9\n",
       "8   -1629.039291          0.020912          10\n",
       "9   -1623.575428          0.018852          11\n",
       "10  -1615.401649          0.020341          12\n",
       "11  -1613.866742          0.020155          13"
      ]
     },
     "execution_count": 11,
     "metadata": {},
     "output_type": "execute_result"
    }
   ],
   "source": [
    "df_score = pd.DataFrame(intents_discovery.search_data)\n",
    "df_score"
   ]
  },
  {
   "cell_type": "markdown",
   "metadata": {},
   "source": [
    "Silhouette score along the training session."
   ]
  },
  {
   "cell_type": "code",
   "execution_count": 12,
   "metadata": {},
   "outputs": [
    {
     "data": {
      "image/png": "[encoded data removed]",
      "text/plain": [
       "<Figure size 432x288 with 1 Axes>"
      ]
     },
     "metadata": {
      "needs_background": "light"
     },
     "output_type": "display_data"
    }
   ],
   "source": [
    "df_score[\"silhouette_score\"].plot();"
   ]
  },
  {
   "cell_type": "code",
   "execution_count": 13,
   "metadata": {},
   "outputs": [
    {
     "name": "stdout",
     "output_type": "stream",
     "text": [
      "(1763, 2)\n"
     ]
    },
    {
     "data": {
      "text/html": [
       "<div>\n",
       "<style scoped>\n",
       "    .dataframe tbody tr th:only-of-type {\n",
       "        vertical-align: middle;\n",
       "    }\n",
       "\n",
       "    .dataframe tbody tr th {\n",
       "        vertical-align: top;\n",
       "    }\n",
       "\n",
       "    .dataframe thead th {\n",
       "        text-align: right;\n",
       "    }\n",
       "</style>\n",
       "<table border=\"1\" class=\"dataframe\">\n",
       "  <thead>\n",
       "    <tr style=\"text-align: right;\">\n",
       "      <th></th>\n",
       "      <th>examples</th>\n",
       "      <th>labels</th>\n",
       "    </tr>\n",
       "  </thead>\n",
       "  <tbody>\n",
       "    <tr>\n",
       "      <th>0</th>\n",
       "      <td>O que devo fazer se o adesivo “informações sob...</td>\n",
       "      <td>contrato adesao cartao</td>\n",
       "    </tr>\n",
       "    <tr>\n",
       "      <th>1</th>\n",
       "      <td>Pode explicar o procedimento para ativar um no...</td>\n",
       "      <td>novo talao cheques</td>\n",
       "    </tr>\n",
       "    <tr>\n",
       "      <th>2</th>\n",
       "      <td>Posso ativar meu cartão de crédito do celulare...</td>\n",
       "      <td>cancelar cartao credito</td>\n",
       "    </tr>\n",
       "    <tr>\n",
       "      <th>3</th>\n",
       "      <td>É possível reativar um cartão cancelado anteri...</td>\n",
       "      <td>cancelar cartao credito</td>\n",
       "    </tr>\n",
       "    <tr>\n",
       "      <th>4</th>\n",
       "      <td>Quais são as etapas que precisam ser seguidas ...</td>\n",
       "      <td>endereco email preciso</td>\n",
       "    </tr>\n",
       "  </tbody>\n",
       "</table>\n",
       "</div>"
      ],
      "text/plain": [
       "                                            examples                   labels\n",
       "0  O que devo fazer se o adesivo “informações sob...   contrato adesao cartao\n",
       "1  Pode explicar o procedimento para ativar um no...       novo talao cheques\n",
       "2  Posso ativar meu cartão de crédito do celulare...  cancelar cartao credito\n",
       "3  É possível reativar um cartão cancelado anteri...  cancelar cartao credito\n",
       "4  Quais são as etapas que precisam ser seguidas ...   endereco email preciso"
      ]
     },
     "execution_count": 13,
     "metadata": {},
     "output_type": "execute_result"
    }
   ],
   "source": [
    "clustering_data = intents_discovery.clustering(n_clusters=intents_discovery.n_clusters)\n",
    "\n",
    "df = pd.DataFrame({\"examples\": clustering_data[\"data\"], \"labels\": clustering_data[\"labels\"]})\n",
    "print(df.shape)\n",
    "df.head()"
   ]
  },
  {
   "cell_type": "code",
   "execution_count": 14,
   "metadata": {},
   "outputs": [
    {
     "data": {
      "text/html": [
       "<div>\n",
       "<style scoped>\n",
       "    .dataframe tbody tr th:only-of-type {\n",
       "        vertical-align: middle;\n",
       "    }\n",
       "\n",
       "    .dataframe tbody tr th {\n",
       "        vertical-align: top;\n",
       "    }\n",
       "\n",
       "    .dataframe thead th {\n",
       "        text-align: right;\n",
       "    }\n",
       "</style>\n",
       "<table border=\"1\" class=\"dataframe\">\n",
       "  <thead>\n",
       "    <tr style=\"text-align: right;\">\n",
       "      <th></th>\n",
       "      <th>examples</th>\n",
       "    </tr>\n",
       "    <tr>\n",
       "      <th>labels</th>\n",
       "      <th></th>\n",
       "    </tr>\n",
       "  </thead>\n",
       "  <tbody>\n",
       "    <tr>\n",
       "      <th>cancelar cartao credito</th>\n",
       "      <td>146</td>\n",
       "    </tr>\n",
       "    <tr>\n",
       "      <th>contrato adesao cartao</th>\n",
       "      <td>61</td>\n",
       "    </tr>\n",
       "    <tr>\n",
       "      <th>data vencimento pagamento</th>\n",
       "      <td>93</td>\n",
       "    </tr>\n",
       "    <tr>\n",
       "      <th>endereco email preciso</th>\n",
       "      <td>103</td>\n",
       "    </tr>\n",
       "    <tr>\n",
       "      <th>endereco poderia melhorar</th>\n",
       "      <td>59</td>\n",
       "    </tr>\n",
       "    <tr>\n",
       "      <th>novo talao cheques</th>\n",
       "      <td>81</td>\n",
       "    </tr>\n",
       "    <tr>\n",
       "      <th>numero identificacao bancaria</th>\n",
       "      <td>961</td>\n",
       "    </tr>\n",
       "    <tr>\n",
       "      <th>pedido talao cheques</th>\n",
       "      <td>60</td>\n",
       "    </tr>\n",
       "    <tr>\n",
       "      <th>usar pontos fidelidade</th>\n",
       "      <td>49</td>\n",
       "    </tr>\n",
       "    <tr>\n",
       "      <th>usar telefone exterior</th>\n",
       "      <td>92</td>\n",
       "    </tr>\n",
       "    <tr>\n",
       "      <th>vamos mudar assunto</th>\n",
       "      <td>58</td>\n",
       "    </tr>\n",
       "  </tbody>\n",
       "</table>\n",
       "</div>"
      ],
      "text/plain": [
       "                               examples\n",
       "labels                                 \n",
       "cancelar cartao credito             146\n",
       "contrato adesao cartao               61\n",
       "data vencimento pagamento            93\n",
       "endereco email preciso              103\n",
       "endereco poderia melhorar            59\n",
       "novo talao cheques                   81\n",
       "numero identificacao bancaria       961\n",
       "pedido talao cheques                 60\n",
       "usar pontos fidelidade               49\n",
       "usar telefone exterior               92\n",
       "vamos mudar assunto                  58"
      ]
     },
     "execution_count": 14,
     "metadata": {},
     "output_type": "execute_result"
    }
   ],
   "source": [
    "df.groupby(\"labels\").count()"
   ]
  }
 ],
 "metadata": {
  "kernelspec": {
   "display_name": "Python 3",
   "language": "python",
   "name": "python3"
  },
  "language_info": {
   "codemirror_mode": {
    "name": "ipython",
    "version": 3
   },
   "file_extension": ".py",
   "mimetype": "text/x-python",
   "name": "python",
   "nbconvert_exporter": "python",
   "pygments_lexer": "ipython3",
   "version": "3.8.3"
  }
 },
 "nbformat": 4,
 "nbformat_minor": 4
}
