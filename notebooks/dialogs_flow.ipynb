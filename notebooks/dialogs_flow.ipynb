{
 "cells": [
  {
   "cell_type": "code",
   "execution_count": 1,
   "metadata": {},
   "outputs": [],
   "source": [
    "## Add root path\n",
    "import os,sys,inspect\n",
    "currentdir = os.path.dirname(os.path.abspath(inspect.getfile(inspect.currentframe())))\n",
    "parentdir = os.path.dirname(currentdir)\n",
    "sys.path.insert(0,parentdir)"
   ]
  },
  {
   "cell_type": "code",
   "execution_count": 2,
   "metadata": {},
   "outputs": [
    {
     "name": "stdout",
     "output_type": "stream",
     "text": [
      "production-mode detected\n",
      "version: 1.1.0\n"
     ]
    },
    {
     "data": {
      "application/javascript": [
       "\n",
       "        var newStyle = document.createElement(\"style\");\n",
       "        newStyle.innerHTML = `div .botvis.flowchart{overflow:auto}.botvis.flowchart rect.node{fill:#fff;stroke-width:3px}.botvis.flowchart rect.node.handled{fill:#00b4a0;stroke:#00b4a0}.botvis.flowchart rect.node.not-handled{fill:#fb9a99;stroke:#fb9a99}.botvis.flowchart rect.node.selected{stroke:black !important;stroke-width:3px;stroke-dasharray:10 10}.botvis.infodiv{right:13px;position:absolute;max-width:400px;background:#cfd0d0a3;padding:10px;overflow-wrap:break-word}.botvis.infodiv .infodiv-title{font-weight:bold;font-size:larger}.botvis.infodiv .field-name{font-weight:bold}.botvis.titlediv{position:absolute;width:50%;background:#cfd0d0a3;padding:10px;overflow-wrap:break-word}.botvis.titlediv .dataset-description-field{font-weight:bold;font-size:larger}.botvis.flowchart rect.node-left-twisty{stroke-width:3px;width:15px;height:15px}.botvis.flowchart text.node-label{text-anchor:\"left\";font-size:13px;font-weight:bolder;font-family:Helvetica Neue for IBM,Helvetica Neue,Helvetica,Arial,sans-serif;fill:white;letter-spacing:1px}.botvis.flowchart text.node-flow-label{font-family:Helvetica Neue for IBM,Helvetica Neue,Helvetica,Arial,sans-serif;font-size:14px;fill:black}.botvis.flowchart text.node-label-num-children{font-family:Helvetica Neue for IBM,Helvetica Neue,Helvetica,Arial,sans-serif;font-size:11px;fill:black}.botvis.flowchart text.node-label-new-skill{font-family:Helvetica Neue for IBM,Helvetica Neue,Helvetica,Arial,sans-serif;font-size:13px;fill:black}.botvis.flowchart .flow-path{fill:none;stroke:#ccc;opacity:.5;// stroke-width:2px}.nothandledlink{fill:none;stroke:\"green\";stroke-width:2px}.botvis.flowchart .node-exit-path{fill:white}.botvis.flowchart .node-exit-label{font-size:12px}.botvis.flowchart .node-exit-label-background{fill:black;fill:#fb9a99}.botvis.flowchart .node-image{width:20px;height:20px;opacity:1;x:-25;y:-10}.botvis-tooltip{position:fixed;line-height:1;text-align:left;width:200px;height:83px;padding:2px;font:12px sans-serif;background:lightsteelblue;border:2px;border-radius:8px;z-index:100}.botvis-tooltip p{font-size:13px;left:5px;top:2px;margin:0;position:relative}.botvis.flowchart.selection{color:black;margin:10px;font-weight:bold;font-size:14px}.botvis.flowchart.selection-instruction{color:red;margin:0;line-height:initial}.botvis-ba-header{background-color:#1d3649;height:30px;width:100%;padding:0 32px 0 40px}.botvis-ba-label{color:white}`;\n",
       "        document.getElementsByTagName(\"head\")[0].appendChild(newStyle);\n",
       "    "
      ],
      "text/plain": [
       "<IPython.core.display.Javascript object>"
      ]
     },
     "metadata": {},
     "output_type": "display_data"
    },
    {
     "data": {
      "application/javascript": [
       "require.config({paths: {d3: 'https://cdnjs.cloudflare.com/ajax/libs/d3/4.13.0/d3.min'}});"
      ],
      "text/plain": [
       "<IPython.core.display.Javascript object>"
      ]
     },
     "metadata": {},
     "output_type": "display_data"
    },
    {
     "data": {
      "application/javascript": [
       "require.config({paths: {lodash: 'https://cdn.jsdelivr.net/npm/lodash@4.17.15/lodash.min'}});"
      ],
      "text/plain": [
       "<IPython.core.display.Javascript object>"
      ]
     },
     "metadata": {},
     "output_type": "display_data"
    },
    {
     "data": {
      "application/javascript": [
       "require.undef(\"flowchart2\"), define(\"flowchart2\", [\"d3\"], function (d3) { return function (container, config, data) { var notHandled2base64 = \"PHN2ZyB3aWR0aD0iMjIwIiBoZWlnaHQ9IjIyMCIgeG1sbnM9Imh0dHA6Ly93d3cudzMub3JnLzIw%0D%0AMDAvc3ZnIiB4bWxuczpzdmc9Imh0dHA6Ly93d3cudzMub3JnLzIwMDAvc3ZnIj4KIDwhLS0gQ3Jl%0D%0AYXRlZCB3aXRoIFNWRy1lZGl0IC0gaHR0cDovL3N2Zy1lZGl0Lmdvb2dsZWNvZGUuY29tLyAtLT4K%0D%0AIDxnPgogIDx0aXRsZT5MYXllciAxPC90aXRsZT4KICA8Y2lyY2xlIHI9Ijk1IiBjeT0iMTAwIiBj%0D%0AeD0iMTAwIiBzdHJva2Utd2lkdGg9IjlweCIgZmlsbD0id2hpdGUiIHN0cm9rZT0icmdiKDI1MSwg%0D%0AMTU0LCAxNTMpIi8+CiAgPHRleHQgeD0iNjUiIHk9IjE1MCIgZmlsbD0icmdiKDI1MSwgMTU0LCAx%0D%0ANTMpIiBmb250LXNpemU9IjEwcmVtIj4/PC90ZXh0PgogPC9nPgo8L3N2Zz4=\", handled2base64 = \"PHN2ZyB3aWR0aD0iMjIwIiBoZWlnaHQ9IjIyMCIgeG1sbnM9Imh0dHA6Ly93d3cudzMub3JnLzIwMDAvc3ZnIiB4bWxuczpzdmc9Imh0dHA6Ly93d3cudzMub3JnLzIwMDAvc3ZnIj4KIDwhLS0gQ3JlYXRlZCB3aXRoIFNWRy1lZGl0IC0gaHR0cDovL3N2Zy1lZGl0Lmdvb2dsZWNvZGUuY29tLyAtLT4KIDxnPgogIDx0aXRsZT5MYXllciAxPC90aXRsZT4KICA8Y2lyY2xlIHI9Ijk1IiBjeT0iMTAwIiBjeD0iMTAwIiBzdHJva2Utd2lkdGg9IjlweCIgZmlsbD0id2hpdGUiIHN0cm9rZT0icmdiKDAsIDE4MCwgMTYwKSIvPgogIDx0ZXh0IHg9IjQwIiB5PSIxNTUiIGZpbGw9InJnYigwLCAxODAsIDE2MCkiIGZvbnQtc2l6ZT0iMTByZW0iPuKckzwvdGV4dD4KIDwvZz4KPC9zdmc+\"; config.debugger; var _tooltip = null, _config = {}, _chart = {}, _data = null, _container = container; _config = $.extend(!0, { margin: { top: 20, right: 90, bottom: 30, left: 120 }, width: 2e3, height: 600, nodeRadius: 10, nodeWidth: 200, linkWidth: 360, exitRatioThreshold: 9e-4, notHandledRatioThreshold: .3, sortByAttribute: \"flowRatio\", showVisitRatio: \"fromTotal\", skillIntentMode: !1, commonRootPathName: \"Session Start\", maxChildrenInNode: 5, title: \"\", mode: \"turn-based\", dataModel: \"json_array\" }, config); var target = Array.isArray(data) ? [] : {}; _data = $.extend(!0, target, data), _chart.container = _container, _chart.config = _config; var baHeader = $(\"<div>\").addClass(\"botvis-ba-header\").appendTo(_chart.container); $(\"<a>\", { text: \"IBM Conversation Analytics Toolkit | Flow Visualization\" }).addClass(\"botvis-ba-label\").appendTo(baHeader), _chart.selectedNode = {}, _chart.selectedD3Node = null, function (_chart) { var infodiv = $(\"<div>\").addClass(\"botvis infodiv\").appendTo(_chart.container); $(\"<div>\", { text: \"Selection Details\" }).addClass(\"infodiv-title\").appendTo(infodiv), $(\"<div>\", { text: \"Name: \" }).addClass(\"infodiv-node-name\").appendTo(infodiv), $(\"<div>\", { text: \"Path: \" }).addClass(\"infodiv-node-path\").appendTo(infodiv), $(\"<div>\", { text: \"Visits: \" }).addClass(\"infodiv-node-visits\").appendTo(infodiv), $(\"<div>\", { text: \"Drop offs: \" }).addClass(\"infodiv-node-dropoffs\").appendTo(infodiv), $(\"<div>\", { text: \"Reroutes: \" }).addClass(\"infodiv-node-reroutes\").appendTo(infodiv) }(_chart), function (_chart) { var titleDiv = $(\"<div>\").addClass(\"botvis titlediv\").appendTo(_chart.container); $(\"<span>\", { text: \"Description: \" }).addClass(\"dataset-description-field\").appendTo(titleDiv), $(\"<span>\", { text: _chart.config.title }).addClass(\"dataset-description\").appendTo(titleDiv) }(_chart), _config.margin, _config.width, _config.margin.left, _config.margin.right; var height = _config.height - _config.margin.top - _config.margin.bottom, svg = d3.select(_container).append(\"svg\").attr(\"class\", \"botvis flowchart\").attr(\"width\", _config.width).attr(\"height\", height + _config.margin.top + _config.margin.bottom); _chart.svg = svg; var g = svg.append(\"g\").attr(\"transform\", \"translate(\" + _config.margin.left + \",\" + _config.height / 2 + \")\"); _tooltip = d3.select(_container).append(\"div\").attr(\"class\", \"botvis-tooltip\").attr(\"pointer-events\", \"none\").style(\"opacity\", 0).style(\"visibility\", \"hidden\"); var root, duration = 750, treemap = d3.tree().nodeSize([70, 700]); if (\"d3_hierarchy\" == _config.dataModel) { if (!(\"stratify\" in _config)) throw \"Stratify function is not defined for d3_hierarchy data model\"; root = _config.stratify(_data) } else if (\"json\" == _config.dataModel) root = d3.hierarchy(_data, function (d) { return d.children }); else { if (\"csv\" == _config.dataModel) _data = d3.csvParse(_data); else if (\"json_array\" != _config.dataModel) throw \"data model not supported,  use json, csv and json_array\"; d3.stratify().parentId(function (d) { return d.path.substring(0, d.path.lastIndexOf(\"\\\\\")) }).id(function (d) { return d.path }), root = function (data) { var rootNode = { path: _config.commonRootPathName, id: _config.commonRootPathName, name: _config.commonRootPathName, type: \"start\", is_new_skill: 0, is_session_start: 0, dropped_off: 0, rerouted: 0, flows: 0, not_handled: 0, dropped_offRatio: 0, reroutedRatio: 0, flowRatio: 100, flowRationFromPrev: 100, notHandledRatio: 0 }; data.forEach(function (row) { row.path = _config.commonRootPathName + \"\\\\\" + row.path }), data.push(rootNode); var root = d3.stratify().parentId(function (d) { return d.path.substring(0, d.path.lastIndexOf(\"\\\\\")) }).id(function (d) { return d.path })(data); for (var childIndex in root.children) root.data.flows += root.children[childIndex].data.flows; return root.each(function (node) { node.data.dropped_offRatio = node.data.dropped_off / node.data.flows, node.data.reroutedRatio = node.data.rerouted / node.data.flows, node.data.flowRatio = node.data.flows / root.data.flows, node.data.flowRationFromPrev = node.parent ? node.data.flows / node.parent.data.flows : node.data.flowRatio, node.data.notHandledRatio = node.data.not_handled / node.data.flows }), root }(_data) } function nodeSelectedEventHandler(d, selectedD3Node) { var node; _chart.selectedNode = d.data, _chart.selectedD3Node && _chart.selectedD3Node.node().classList.remove(\"selected\"), _chart.selectedD3Node = selectedD3Node, _chart.selectedD3Node.node().classList.add(\"selected\"), node = _chart.selectedNode, d3.select(_chart.container).select(\".infodiv-node-name\").html(\"<span class='field-name'>Node name: </span>\" + node.name), d3.select(_chart.container).select(\".infodiv-node-path\").html(\"<span class='field-name'>Path: </span>\" + node.path), d3.select(_chart.container).select(\".infodiv-node-visits\").html(\"<span class='field-name'>Visits: </span>\" + node.flows + \" (\" + (100 * node.flowRatio).toFixed(1) + \"% of total | \" + (100 * node.flowRationFromPrev).toFixed(1) + \"% of previous)\"), d3.select(_chart.container).select(\".infodiv-node-dropoffs\").html(\"<span class='field-name'>Drop offs: </span>\" + node.dropped_off + \" (\" + (100 * node.dropped_offRatio).toFixed(1) + \"%)\"), d3.select(_chart.container).select(\".infodiv-node-reroutes\").html(\"<span class='field-name'>Reroutes: </span>\" + node.rerouted + \" (\" + (100 * node.reroutedRatio).toFixed(1) + \"%)\"); var selection = { dropped_off: [], rerouted: [], name: _chart.selectedNode.name, path: _chart.selectedNode.path }; _chart.selectedNode.hasOwnProperty(\"conversation_log_ids_dropped_off\") && (selection.dropped_off = _chart.selectedNode.conversation_log_ids_dropped_off), _chart.selectedNode.hasOwnProperty(\"conversation_log_ids_rerouted\") && (selection.rerouted = _chart.selectedNode.conversation_log_ids_rerouted); var handler = _chart.eventHandler.export; handler && handler({ selection: selection }) } return root.x0 = height / 2, root.y0 = 0, root.each(function (node) { node.children && (node.children = node.children.sort(function (a, b) { return b.data[_config.sortByAttribute] - a.data[_config.sortByAttribute] })) }), root.each(function (node) { if (\"milestone-based\" == _config.mode && \"Other\" == node.data.name) node.data.type = \"milestone-other\", node.data.dropped_off = void 0, node.data.dropped_offRatio = NaN; else if (node.children && node.children.length > _config.maxChildrenInNode) { var topChildren = node.children.slice(0, _config.maxChildrenInNode), otherChildren = node.children.slice(_config.maxChildrenInNode), otherData = { dropoffs: 0, rerouted: 0, flowRatio: 0, flowRationFromPrev: 0, flows: 0, id: \"other\", is_new_skill: 0, is_session_start: 0, name: \"a few other\", notHandledRatio: 0, not_handled: 0, path: \"other\", type: \"other\" }, otherNode = { children: null, _otherChildren: otherChildren, data: otherData, depth: node.depth + 1, height: 0, id: \"other\" + node.id, parent: node }; otherChildren.forEach(function (node) { otherNode.data.flows += node.data.flows }); var num_of_otherChildren = 0; otherChildren.forEach(function (node) { num_of_otherChildren += node.data.flows }), otherNode.data.flowRatio = otherNode.data.flows / root.data.flows, otherNode.data.flowRationFromPrev = otherNode.parent ? otherNode.data.flows / otherNode.parent.data.flows : otherNode.data.flowRatio, otherData.name = num_of_otherChildren + \" others ...\", topChildren.push(otherNode), node.children = topChildren } }), root.children.forEach(function collapse(d) { d.children && (d._children = d.children, d._children.forEach(collapse), d.children = null) }), function update(source) { var treeData = treemap(root), nodes = treeData.descendants(), links = treeData.descendants().slice(1); nodes.forEach(function (d) { d.y = d.depth * _config.linkWidth }); var node = g.selectAll(\"g.node-group\").data(nodes, function (d) { return d.id || (d.id = ++i) }), nodeEnter = node.enter().append(\"g\").attr(\"class\", \"node-group\").attr(\"transform\", function (d) { return \"translate(\" + source.y0 + \",\" + source.x0 + \")\" }); nodeEnter.append(\"rect\").attr(\"class\", \"node-left-twisty\").attr(\"transform\", \"translate(-30, 0)\").style(\"fill\", function (d) { return d.data.notHandledRatio >= _config.notHandledRatioThreshold ? \"#fb9a99\" : \"#00B4A0\" }).style(\"stroke\", function (d) { return d.data.notHandledRatio >= _config.notHandledRatioThreshold ? \"#fb9a99\" : \"#00B4A0\" }); var nodeObjects = nodeEnter.append(\"rect\").attr(\"class\", function (d) { var classList = [\"node\"]; return null == d.parent ? classList.push(\"rootnode\") : \"other\" == d.data.type ? classList.push(\"other-node\") : \"milestone-other\" == d.data.type && \"milestone-based\" == _config.mode && classList.push(\"milestone-other-node\"), d.data.notHandledRatio > _config.notHandledRatioThreshold ? classList.push(\"not-handled\") : classList.push(\"handled\"), classList.join(\" \") }).on(\"click\", function nodeClick(d) { d.children ? (d._children = d.children, d.children = null) : (d.children = d._children, d._children = null), d3.event.pageX, d3.event.pageY, function update(source) { var treeData = treemap(root), nodes = treeData.descendants(), links = treeData.descendants().slice(1); nodes.forEach(function (d) { d.y = d.depth * _config.linkWidth }); var node = g.selectAll(\"g.node-group\").data(nodes, function (d) { return d.id || (d.id = ++i) }), nodeEnter = node.enter().append(\"g\").attr(\"class\", \"node-group\").attr(\"transform\", function (d) { return \"translate(\" + source.y0 + \",\" + source.x0 + \")\" }); nodeEnter.append(\"rect\").attr(\"class\", \"node-left-twisty\").attr(\"transform\", \"translate(-30, 0)\").style(\"fill\", function (d) { return d.data.notHandledRatio >= _config.notHandledRatioThreshold ? \"#fb9a99\" : \"#00B4A0\" }).style(\"stroke\", function (d) { return d.data.notHandledRatio >= _config.notHandledRatioThreshold ? \"#fb9a99\" : \"#00B4A0\" }); var nodeObjects = nodeEnter.append(\"rect\").attr(\"class\", function (d) { var classList = [\"node\"]; return null == d.parent ? classList.push(\"rootnode\") : \"other\" == d.data.type ? classList.push(\"other-node\") : \"milestone-other\" == d.data.type && \"milestone-based\" == _config.mode && classList.push(\"milestone-other-node\"), d.data.notHandledRatio > _config.notHandledRatioThreshold ? classList.push(\"not-handled\") : classList.push(\"handled\"), classList.join(\" \") }).on(\"click\", nodeClick); nodeObjects.on(\"mouseover\", function (d) { _tooltip.transition().duration(100).style(\"opacity\", .9).style(\"visibility\", \"visible\"); var nodeNameLabel = \"Name\", skillRow = \"\"; _config.skillIntentMode && (nodeNameLabel = \"Intent\", skillRow = \"<p><strong>Skill: </strong>\" + d.data.skill + \"<br>\"), _tooltip.html(\"<div><p><strong>\" + nodeNameLabel + \": </strong>\" + d.data.name + \"<br>\" + skillRow + \"<strong>Visits: </strong>\" + d.data.flows + \" (\" + (100 * d.data.flowRatio).toFixed(1) + \"% | \" + (100 * d.data.flowRationFromPrev).toFixed(1) + \"%)<br><strong>Drop offs: </strong>\" + d.data.dropped_off + \" (\" + (100 * d.data.dropped_offRatio).toFixed(1) + \"%)<br><strong>Reroutes: </strong>\" + d.data.rerouted + \" (\" + (100 * d.data.reroutedRatio).toFixed(1) + \"%)<br></p></div>\").style(\"left\", d3.event.pageX + 80 + \"px\").style(\"top\", d3.event.pageY - 38 + \"px\") }).on(\"mouseout\", function (d) { _tooltip.style(\"visibility\", \"hidden\"), _tooltip.style(\"opacity\", 0) }).on(\"mousemove\", function (d) { _tooltip.transition().duration(0).style(\"opacity\", .9).style(\"visibility\", \"visible\").style(\"left\", d3.event.pageX + 80 + \"px\").style(\"top\", d3.event.pageY - 38 + \"px\") }), nodeEnter.append(\"image\").attr(\"cursor\", \"pointer\").style(\"pointer-events\", \"none\").attr(\"x\", \"-25\").attr(\"y\", \"-10\").attr(\"width\", \"25\").attr(\"height\", \"25\").attr(\"href\", function (d) { return d.data.notHandledRatio >= _config.notHandledRatioThreshold ? \"data:image/svg+xml;base64,\" + notHandled2base64 : \"data:image/svg+xml;base64,\" + handled2base64 }), nodeEnter.append(\"text\").attr(\"class\", \"node-label-num-children\").attr(\"transform\", \"translate(\" + _config.nodeWidth + \", -5)\").text(function (d) { return \"+\" + d.height }).style(\"opacity\", function (d) { var hasHiddenChildren = d.hasOwnProperty(\"children\") && null != d.children && d.children.length > 0; return hasHiddenChildren ? 1 : 0 }), nodeEnter.append(\"text\").attr(\"class\", \"node-label-new-skill\").attr(\"transform\", \"translate(-25, -20)\").text(function (d) { return d.data.skill }).style(\"opacity\", function (d) { return 1 == d.data.is_new_skill ? 1 : 0 }), nodeEnter.append(\"path\").attr(\"class\", \"node-exit-path\").attr(\"d\", \"m0,0 Q30,0 30,30\").attr(\"transform\", \"translate(\" + _config.nodeWidth + \", 0)\").attr(\"opacity\", function (d) { return d.data.dropped_offRatio + d.data.reroutedRatio > _config.exitRatioThreshold ? .5 : 0 }).style(\"stroke\", function (d) { return d.data.dropped_offRatio + d.data.reroutedRatio > _config.exitRatioThreshold ? \"#fb9a99\" : \"#7fc97f\" }).style(\"stroke-width\", function (d) { return 10 * (d.data.dropped_offRatio + d.data.reroutedRatio) }).style(\"visibility\", function (d) { return \"milestone-other\" != d.data.type ? \"visible\" : \"hidden\" }).style(\"fill\", \"none\"), nodeEnter.append(\"text\").attr(\"class\", \"node-label\").attr(\"dy\", \".35em\").attr(\"x\", function (d) { return 0 }).attr(\"cursor\", \"pointer\").style(\"pointer-events\", \"none\").text(function (d) { return d.data.name }), nodeEnter.append(\"text\").attr(\"class\", \"node-flow-label\").attr(\"dy\", \".35em\").attr(\"x\", function (d) { return -70 }).attr(\"text-anchor\", function (d) { return \"middle\" }).text(function (d) { var flows = d.data.flows, flowsRatio = d.data.flowRatio, flowRationFromPrev = d.data.flowRationFromPrev, text = \"fromTotal\" == _config.showVisitRatio ? (100 * flowsRatio).toFixed(0) + \"% (\" + flows + \")\" : (100 * flowRationFromPrev).toFixed(0) + \"% (\" + flows + \")\"; return text }), nodeEnter.append(\"rect\").attr(\"class\", \"node-exit-label-background\").attr(\"opacity\", function (d) { return d.data.dropped_offRatio + d.data.reroutedRatio > _config.exitRatioThreshold ? .4 : 0 }).attr(\"rx\", 3).attr(\"ry\", 3).attr(\"width\", 55).attr(\"height\", 20).style(\"fill\", \"rgb(251, 154, 153)\").style(\"visibility\", function (d) { return \"milestone-other\" != d.data.type ? \"visible\" : \"hidden\" }).attr(\"transform\", \"translate(\" + _config.nodeWidth + \",30)\"), nodeEnter.append(\"text\").attr(\"class\", \"node-exit-label\").attr(\"dy\", \".35em\").attr(\"transform\", \"translate(\" + _config.nodeWidth + \", 40)\").attr(\"opacity\", function (d) { return d.data.dropped_offRatio + d.data.reroutedRatio > _config.exitRatioThreshold ? 1 : 0 }).attr(\"text-anchor\", function (d) { return \"left\" }).style(\"visibility\", function (d) { return \"milestone-other\" != d.data.type ? \"visible\" : \"hidden\" }).text(function (d) { var exits = d.data.dropped_off + d.data.rerouted, exitsRatio = d.data.dropped_offRatio + d.data.reroutedRatio, text = (100 * exitsRatio).toFixed(0) + \"% (\" + exits + \")\"; return text }); for (var milestone_other_dots = nodeEnter.append(\"g\").attr(\"class\", \"node-other-milestone\").style(\"visibility\", function (d) { return \"milestone-other\" == d.data.type ? \"visible\" : \"hidden\" }), i = 1; i <= 3; i++)milestone_other_dots.append(\"circle\").attr(\"class\", \"node-other-milestone-circle\").attr(\"transform\", \"translate(\" + (_config.nodeWidth - 20 * (3 - i) - 30) + \", 0)\").attr(\"r\", 6 - i); var nodeUpdate = nodeEnter.merge(node); nodeUpdate.transition().duration(duration).attr(\"transform\", function (d) { return \"translate(\" + d.y + \",\" + d.x + \")\" }), nodeUpdate.select(\"rect.node\").style(\"fill\", function (d) { return d.data.notHandledRatio >= _config.notHandledRatioThreshold ? \"#fb9a99\" : \"#00B4A0\" }).attr(\"x\", -30).attr(\"y\", -15).attr(\"rx\", 14).attr(\"ry\", 14).attr(\"width\", function (d) { return \"milestone-other\" != d.data.type ? _config.nodeWidth + 30 : _config.nodeWidth - 60 }).attr(\"height\", 30).attr(\"cursor\", \"pointer\"), nodeUpdate.selectAll(\".node-label-num-children\").style(\"opacity\", function (d) { var hasHiddenChildren = d.hasOwnProperty(\"children\") && null != d.children && d.children.length > 0; return hasHiddenChildren ? 0 : 1 }).style(\"visibility\", function (d) { return \"milestone-other\" != d.data.type ? \"visible\" : \"hidden\" }); var nodeExit = node.exit().transition().duration(duration).attr(\"transform\", function (d) { return \"translate(\" + source.y + \",\" + source.x + \")\" }).remove(); nodeExit.select(\"rect\").style(\"fill-opacity\", 1e-6), nodeExit.select(\"text\").style(\"fill-opacity\", 1e-6); var link = g.selectAll(\"path.flow-path\").data(links, function (d) { return d.id }), linkEnter = link.enter().insert(\"path\", \"g\").attr(\"class\", \"flow-path\").attr(\"d\", function (d) { var o = { x: source.x0, y: source.y0 }; return diagonal(o, o) }).style(\"fill\", \"none\").style(\"stroke\", \"#ccc\").style(\"opacity\", .5), linkUpdate = linkEnter.merge(link); function diagonal(s, d) { var path = \"M \" + s.y + \" \" + s.x + \" C \" + (s.y + d.y) / 2 + \" \" + s.x + \",\" + (s.y + d.y) / 2 + \" \" + d.x + \",\" + d.y + \" \" + d.x; return path } function nodeClick(d) { d.children ? (d._children = d.children, d.children = null) : (d.children = d._children, d._children = null), d3.event.pageX, d3.event.pageY, update(d), function (d, selectedD3Node) { var node; _chart.selectedNode = d.data, _chart.selectedD3Node && _chart.selectedD3Node.node().classList.remove(\"selected\"), _chart.selectedD3Node = selectedD3Node, _chart.selectedD3Node.node().classList.add(\"selected\"), node = _chart.selectedNode, d3.select(_chart.container).select(\".infodiv-node-name\").html(\"<span class='field-name'>Node name: </span>\" + node.name), d3.select(_chart.container).select(\".infodiv-node-path\").html(\"<span class='field-name'>Path: </span>\" + node.path), d3.select(_chart.container).select(\".infodiv-node-visits\").html(\"<span class='field-name'>Visits: </span>\" + node.flows + \" (\" + (100 * node.flowRatio).toFixed(1) + \"% of total | \" + (100 * node.flowRationFromPrev).toFixed(1) + \"% of previous)\"), d3.select(_chart.container).select(\".infodiv-node-dropoffs\").html(\"<span class='field-name'>Drop offs: </span>\" + node.dropped_off + \" (\" + (100 * node.dropped_offRatio).toFixed(1) + \"%)\"), d3.select(_chart.container).select(\".infodiv-node-reroutes\").html(\"<span class='field-name'>Reroutes: </span>\" + node.rerouted + \" (\" + (100 * node.reroutedRatio).toFixed(1) + \"%)\"); var selection = { dropped_off: [], rerouted: [], name: _chart.selectedNode.name, path: _chart.selectedNode.path }; _chart.selectedNode.hasOwnProperty(\"conversation_log_ids_dropped_off\") && (selection.dropped_off = _chart.selectedNode.conversation_log_ids_dropped_off), _chart.selectedNode.hasOwnProperty(\"conversation_log_ids_rerouted\") && (selection.rerouted = _chart.selectedNode.conversation_log_ids_rerouted); var handler = _chart.eventHandler.export; handler && handler({ selection: selection }) }(d, d3.select(this)) } linkUpdate.transition().duration(duration).attr(\"d\", function (d) { return diagonal(d, d.parent) }).attr(\"stroke-width\", function (d) { var strokeWidth = 40 * d.data.flowRatio; return strokeWidth > 1 ? strokeWidth : 1 }), link.exit().transition().duration(duration).attr(\"d\", function (d) { var o = { x: source.x, y: source.y }; return diagonal(o, o) }).remove(), nodes.forEach(function (d) { d.x0 = d.x, d.y0 = d.y }); var zoom = d3.zoom().scaleExtent([.5, 8]).on(\"zoom\", function () { var k = d3.event.transform.k, x = d3.event.transform.x + _config.margin.left, y = d3.event.transform.y + _config.height / 2; g.attr(\"transform\", \"translate(\" + x + \",\" + y + \") scale (\" + k + \")\") }); _chart.zoom = zoom, svg.call(zoom) }(d), nodeSelectedEventHandler(d, d3.select(this)) }); nodeObjects.on(\"mouseover\", function (d) { _tooltip.transition().duration(100).style(\"opacity\", .9).style(\"visibility\", \"visible\"); var nodeNameLabel = \"Name\", skillRow = \"\"; _config.skillIntentMode && (nodeNameLabel = \"Intent\", skillRow = \"<p><strong>Skill: </strong>\" + d.data.skill + \"<br>\"), _tooltip.html(\"<div><p><strong>\" + nodeNameLabel + \": </strong>\" + d.data.name + \"<br>\" + skillRow + \"<strong>Visits: </strong>\" + d.data.flows + \" (\" + (100 * d.data.flowRatio).toFixed(1) + \"% | \" + (100 * d.data.flowRationFromPrev).toFixed(1) + \"%)<br><strong>Drop offs: </strong>\" + d.data.dropped_off + \" (\" + (100 * d.data.dropped_offRatio).toFixed(1) + \"%)<br><strong>Reroutes: </strong>\" + d.data.rerouted + \" (\" + (100 * d.data.reroutedRatio).toFixed(1) + \"%)<br></p></div>\").style(\"left\", d3.event.pageX + 80 + \"px\").style(\"top\", d3.event.pageY - 38 + \"px\") }).on(\"mouseout\", function (d) { _tooltip.style(\"visibility\", \"hidden\"), _tooltip.style(\"opacity\", 0) }).on(\"mousemove\", function (d) { _tooltip.transition().duration(0).style(\"opacity\", .9).style(\"visibility\", \"visible\").style(\"left\", d3.event.pageX + 80 + \"px\").style(\"top\", d3.event.pageY - 38 + \"px\") }), nodeEnter.append(\"image\").attr(\"cursor\", \"pointer\").style(\"pointer-events\", \"none\").attr(\"x\", \"-25\").attr(\"y\", \"-10\").attr(\"width\", \"25\").attr(\"height\", \"25\").attr(\"href\", function (d) { return d.data.notHandledRatio >= _config.notHandledRatioThreshold ? \"data:image/svg+xml;base64,\" + notHandled2base64 : \"data:image/svg+xml;base64,\" + handled2base64 }), nodeEnter.append(\"text\").attr(\"class\", \"node-label-num-children\").attr(\"transform\", \"translate(\" + _config.nodeWidth + \", -5)\").text(function (d) { return \"+\" + d.height }).style(\"opacity\", function (d) { var hasHiddenChildren = d.hasOwnProperty(\"children\") && null != d.children && d.children.length > 0; return hasHiddenChildren ? 1 : 0 }), nodeEnter.append(\"text\").attr(\"class\", \"node-label-new-skill\").attr(\"transform\", \"translate(-25, -20)\").text(function (d) { return d.data.skill }).style(\"opacity\", function (d) { return 1 == d.data.is_new_skill ? 1 : 0 }), nodeEnter.append(\"path\").attr(\"class\", \"node-exit-path\").attr(\"d\", \"m0,0 Q30,0 30,30\").attr(\"transform\", \"translate(\" + _config.nodeWidth + \", 0)\").attr(\"opacity\", function (d) { return d.data.dropped_offRatio + d.data.reroutedRatio > _config.exitRatioThreshold ? .5 : 0 }).style(\"stroke\", function (d) { return d.data.dropped_offRatio + d.data.reroutedRatio > _config.exitRatioThreshold ? \"#fb9a99\" : \"#7fc97f\" }).style(\"stroke-width\", function (d) { return 10 * (d.data.dropped_offRatio + d.data.reroutedRatio) }).style(\"visibility\", function (d) { return \"milestone-other\" != d.data.type ? \"visible\" : \"hidden\" }).style(\"fill\", \"none\"), nodeEnter.append(\"text\").attr(\"class\", \"node-label\").attr(\"dy\", \".35em\").attr(\"x\", function (d) { return 0 }).attr(\"cursor\", \"pointer\").style(\"pointer-events\", \"none\").text(function (d) { return d.data.name }), nodeEnter.append(\"text\").attr(\"class\", \"node-flow-label\").attr(\"dy\", \".35em\").attr(\"x\", function (d) { return -70 }).attr(\"text-anchor\", function (d) { return \"middle\" }).text(function (d) { var flows = d.data.flows, flowsRatio = d.data.flowRatio, flowRationFromPrev = d.data.flowRationFromPrev, text = \"fromTotal\" == _config.showVisitRatio ? (100 * flowsRatio).toFixed(0) + \"% (\" + flows + \")\" : (100 * flowRationFromPrev).toFixed(0) + \"% (\" + flows + \")\"; return text }), nodeEnter.append(\"rect\").attr(\"class\", \"node-exit-label-background\").attr(\"opacity\", function (d) { return d.data.dropped_offRatio + d.data.reroutedRatio > _config.exitRatioThreshold ? .4 : 0 }).attr(\"rx\", 3).attr(\"ry\", 3).attr(\"width\", 55).attr(\"height\", 20).style(\"fill\", \"rgb(251, 154, 153)\").style(\"visibility\", function (d) { return \"milestone-other\" != d.data.type ? \"visible\" : \"hidden\" }).attr(\"transform\", \"translate(\" + _config.nodeWidth + \",30)\"), nodeEnter.append(\"text\").attr(\"class\", \"node-exit-label\").attr(\"dy\", \".35em\").attr(\"transform\", \"translate(\" + _config.nodeWidth + \", 40)\").attr(\"opacity\", function (d) { return d.data.dropped_offRatio + d.data.reroutedRatio > _config.exitRatioThreshold ? 1 : 0 }).attr(\"text-anchor\", function (d) { return \"left\" }).style(\"visibility\", function (d) { return \"milestone-other\" != d.data.type ? \"visible\" : \"hidden\" }).text(function (d) { var exits = d.data.dropped_off + d.data.rerouted, exitsRatio = d.data.dropped_offRatio + d.data.reroutedRatio, text = (100 * exitsRatio).toFixed(0) + \"% (\" + exits + \")\"; return text }); for (var milestone_other_dots = nodeEnter.append(\"g\").attr(\"class\", \"node-other-milestone\").style(\"visibility\", function (d) { return \"milestone-other\" == d.data.type ? \"visible\" : \"hidden\" }), i = 1; i <= 3; i++)milestone_other_dots.append(\"circle\").attr(\"class\", \"node-other-milestone-circle\").attr(\"transform\", \"translate(\" + (_config.nodeWidth - 20 * (3 - i) - 30) + \", 0)\").attr(\"r\", 6 - i); var nodeUpdate = nodeEnter.merge(node); nodeUpdate.transition().duration(duration).attr(\"transform\", function (d) { return \"translate(\" + d.y + \",\" + d.x + \")\" }), nodeUpdate.select(\"rect.node\").style(\"fill\", function (d) { return d.data.notHandledRatio >= _config.notHandledRatioThreshold ? \"#fb9a99\" : \"#00B4A0\" }).attr(\"x\", -30).attr(\"y\", -15).attr(\"rx\", 14).attr(\"ry\", 14).attr(\"width\", function (d) { return \"milestone-other\" != d.data.type ? _config.nodeWidth + 30 : _config.nodeWidth - 60 }).attr(\"height\", 30).attr(\"cursor\", \"pointer\"), nodeUpdate.selectAll(\".node-label-num-children\").style(\"opacity\", function (d) { var hasHiddenChildren = d.hasOwnProperty(\"children\") && null != d.children && d.children.length > 0; return hasHiddenChildren ? 0 : 1 }).style(\"visibility\", function (d) { return \"milestone-other\" != d.data.type ? \"visible\" : \"hidden\" }); var nodeExit = node.exit().transition().duration(duration).attr(\"transform\", function (d) { return \"translate(\" + source.y + \",\" + source.x + \")\" }).remove(); nodeExit.select(\"rect\").style(\"fill-opacity\", 1e-6), nodeExit.select(\"text\").style(\"fill-opacity\", 1e-6); var link = g.selectAll(\"path.flow-path\").data(links, function (d) { return d.id }), linkEnter = link.enter().insert(\"path\", \"g\").attr(\"class\", \"flow-path\").attr(\"d\", function (d) { var o = { x: source.x0, y: source.y0 }; return diagonal(o, o) }).style(\"fill\", \"none\").style(\"stroke\", \"#ccc\").style(\"opacity\", .5), linkUpdate = linkEnter.merge(link); function diagonal(s, d) { var path = \"M \" + s.y + \" \" + s.x + \" C \" + (s.y + d.y) / 2 + \" \" + s.x + \",\" + (s.y + d.y) / 2 + \" \" + d.x + \",\" + d.y + \" \" + d.x; return path } function nodeClick(d) { d.children ? (d._children = d.children, d.children = null) : (d.children = d._children, d._children = null), d3.event.pageX, d3.event.pageY, update(d), nodeSelectedEventHandler(d, d3.select(this)) } linkUpdate.transition().duration(duration).attr(\"d\", function (d) { return diagonal(d, d.parent) }).attr(\"stroke-width\", function (d) { var strokeWidth = 40 * d.data.flowRatio; return strokeWidth > 1 ? strokeWidth : 1 }), link.exit().transition().duration(duration).attr(\"d\", function (d) { var o = { x: source.x, y: source.y }; return diagonal(o, o) }).remove(), nodes.forEach(function (d) { d.x0 = d.x, d.y0 = d.y }); var zoom = d3.zoom().scaleExtent([.5, 8]).on(\"zoom\", function () { var k = d3.event.transform.k, x = d3.event.transform.x + _config.margin.left, y = d3.event.transform.y + _config.height / 2; g.attr(\"transform\", \"translate(\" + x + \",\" + y + \") scale (\" + k + \")\") }); _chart.zoom = zoom, svg.call(zoom) }(root), _chart.eventHandler = [], _chart.on = function (event, fct) { _chart.eventHandler[event] = fct }, _chart } });"
      ],
      "text/plain": [
       "<IPython.core.display.Javascript object>"
      ]
     },
     "metadata": {},
     "output_type": "display_data"
    }
   ],
   "source": [
    "# Imports\n",
    "import pandas as pd\n",
    "from IPython.core.display import display, HTML\n",
    "from connectors.watson_assistant import WatsonAssistant\n",
    "from dialogs.flow import FlowVisualization"
   ]
  },
  {
   "cell_type": "code",
   "execution_count": 3,
   "metadata": {},
   "outputs": [],
   "source": [
    "# Parameters\n",
    "parameters = {\n",
    "    \"watson\": {\n",
    "        \"apikey\": None,\n",
    "        \"skill_id\": None,\n",
    "        \"service_endpoint\": None,\n",
    "    }\n",
    "}"
   ]
  },
  {
   "cell_type": "code",
   "execution_count": 6,
   "metadata": {},
   "outputs": [
    {
     "name": "stdout",
     "output_type": "stream",
     "text": [
      "Interactions count: 25\n"
     ]
    }
   ],
   "source": [
    "watson = WatsonAssistant(apikey=parameters[\"watson\"][\"apikey\"],\n",
    "                         service_endpoint=parameters[\"watson\"][\"service_endpoint\"],\n",
    "                         default_skill_id=parameters[\"watson\"][\"skill_id\"])\n",
    "\n",
    "#query = watson.define_query_by_date(pd.Timestamp('2020-01-01'), pd.Timestamp('2021-01-01'))\n",
    "#logs = watson.get_logs(query=query)\n",
    "\n",
    "logs = watson.get_logs()\n",
    "\n",
    "print(\"Interactions count:\", len(logs))"
   ]
  },
  {
   "cell_type": "code",
   "execution_count": 7,
   "metadata": {},
   "outputs": [],
   "source": [
    "workspace = watson.get_workspace()"
   ]
  },
  {
   "cell_type": "code",
   "execution_count": 8,
   "metadata": {},
   "outputs": [],
   "source": [
    "flow = FlowVisualization()\n",
    "\n",
    "flow.prepare_data(logs=logs, skill_id=parameters[\"watson\"][\"skill_id\"], workspace=workspace)"
   ]
  },
  {
   "cell_type": "code",
   "execution_count": 9,
   "metadata": {
    "scrolled": false
   },
   "outputs": [
    {
     "data": {
      "text/html": [
       "<style>.container { width:95% !important; }</style>"
      ],
      "text/plain": [
       "<IPython.core.display.HTML object>"
      ]
     },
     "metadata": {},
     "output_type": "display_data"
    },
    {
     "data": {
      "application/javascript": [
       "\n",
       "            (function(element){\n",
       "                require(['flowchart2'], function(flowchart2) {\n",
       "                    var config = {\"commonRootPathName\": \"All Conversations\", \"height\": 800, \"nodeWidth\": 250, \"maxChildrenInNode\": 6, \"linkWidth\": 400, \"sortByAttribute\": \"flowRatio\", \"title\": \"All Conversations\", \"mode\": \"turn-based\"};\n",
       "                    if (config[\"debugger\"]===true){\n",
       "                    debugger;\n",
       "                    };\n",
       "                    var chart = flowchart2(element.get(0), config, [{\"path\": \"Projects\", \"name\": \"Projects\", \"type\": \"NODE\", \"is_conversation_start\": true, \"flows\": 1, \"rerouted\": 0, \"dropped_off\": 0, \"conversation_log_ids_rerouted\": [], \"conversation_log_ids_dropped_off\": [], \"path_length\": 0}, {\"path\": \"Projects\\\\Medium\", \"name\": \"Medium\", \"type\": \"NODE\", \"is_conversation_start\": true, \"flows\": 1, \"rerouted\": 0, \"dropped_off\": 1, \"conversation_log_ids_rerouted\": [], \"conversation_log_ids_dropped_off\": [[\"29144327-fafa-465b-9a9d-8608e889af5e\", \"e94705e8-e049-447f-bc63-ea91ffbf1fbe\"]], \"path_length\": 1}, {\"path\": \"Experiences\", \"name\": \"Experiences\", \"type\": \"NODE\", \"is_conversation_start\": true, \"flows\": 5, \"rerouted\": 0, \"dropped_off\": 1, \"conversation_log_ids_rerouted\": [], \"conversation_log_ids_dropped_off\": [[\"6dd2509e-9891-457a-ab50-0dffa8dbd2e3\", \"c5ff4404-2fa0-494e-a09c-9890f82c3322\"]], \"path_length\": 0}, {\"path\": \"Experiences\\\\Dell\", \"name\": \"Dell\", \"type\": \"NODE\", \"is_conversation_start\": true, \"flows\": 2, \"rerouted\": 0, \"dropped_off\": 0, \"conversation_log_ids_rerouted\": [], \"conversation_log_ids_dropped_off\": [], \"path_length\": 1}, {\"path\": \"Experiences\\\\Dell\\\\IT Tech Support Associate\", \"name\": \"IT Tech Support Associate\", \"type\": \"NODE\", \"is_conversation_start\": true, \"flows\": 2, \"rerouted\": 0, \"dropped_off\": 0, \"conversation_log_ids_rerouted\": [], \"conversation_log_ids_dropped_off\": [], \"path_length\": 2}, {\"path\": \"Experiences\\\\Dell\\\\IT Tech Support Associate\\\\Dell\", \"name\": \"Dell\", \"type\": \"NODE\", \"is_conversation_start\": true, \"flows\": 2, \"rerouted\": 0, \"dropped_off\": 0, \"conversation_log_ids_rerouted\": [], \"conversation_log_ids_dropped_off\": [], \"path_length\": 3}, {\"path\": \"Experiences\\\\Dell\\\\IT Tech Support Associate\\\\Dell\\\\IT Tech Support Associate\", \"name\": \"IT Tech Support Associate\", \"type\": \"NODE\", \"is_conversation_start\": true, \"flows\": 2, \"rerouted\": 0, \"dropped_off\": 0, \"conversation_log_ids_rerouted\": [], \"conversation_log_ids_dropped_off\": [], \"path_length\": 4}, {\"path\": \"Experiences\\\\Dell\\\\IT Tech Support Associate\\\\Dell\\\\IT Tech Support Associate\\\\Key results\", \"name\": \"Key results\", \"type\": \"NODE\", \"is_conversation_start\": true, \"flows\": 2, \"rerouted\": 0, \"dropped_off\": 0, \"conversation_log_ids_rerouted\": [], \"conversation_log_ids_dropped_off\": [], \"path_length\": 5}, {\"path\": \"Experiences\\\\Dell\\\\IT Tech Support Associate\\\\Dell\\\\IT Tech Support Associate\\\\Key results\\\\Key activities\", \"name\": \"Key activities\", \"type\": \"NODE\", \"is_conversation_start\": true, \"flows\": 1, \"rerouted\": 0, \"dropped_off\": 0, \"conversation_log_ids_rerouted\": [], \"conversation_log_ids_dropped_off\": [], \"path_length\": 6}, {\"path\": \"Experiences\\\\Dell\\\\IT Tech Support Associate\\\\Dell\\\\IT Tech Support Associate\\\\Key results\\\\Key activities\\\\IT Tech Support Specialist\", \"name\": \"IT Tech Support Specialist\", \"type\": \"NODE\", \"is_conversation_start\": true, \"flows\": 1, \"rerouted\": 0, \"dropped_off\": 0, \"conversation_log_ids_rerouted\": [], \"conversation_log_ids_dropped_off\": [], \"path_length\": 7}, {\"path\": \"Experiences\\\\Dell\\\\IT Tech Support Associate\\\\Dell\\\\IT Tech Support Associate\\\\Key results\\\\Key activities\\\\IT Tech Support Specialist\\\\Key results\", \"name\": \"Key results\", \"type\": \"NODE\", \"is_conversation_start\": true, \"flows\": 1, \"rerouted\": 0, \"dropped_off\": 0, \"conversation_log_ids_rerouted\": [], \"conversation_log_ids_dropped_off\": [], \"path_length\": 8}, {\"path\": \"Experiences\\\\Dell\\\\IT Tech Support Associate\\\\Dell\\\\IT Tech Support Associate\\\\Key results\\\\Key activities\\\\IT Tech Support Specialist\\\\Key results\\\\Key activities\", \"name\": \"Key activities\", \"type\": \"NODE\", \"is_conversation_start\": true, \"flows\": 1, \"rerouted\": 0, \"dropped_off\": 1, \"conversation_log_ids_rerouted\": [], \"conversation_log_ids_dropped_off\": [[\"77d94075-31c5-456d-bfb6-75b1c5798007\", \"8407d872-ef47-44e9-915f-3fa40b014028\"]], \"path_length\": 9}, {\"path\": \"Experiences\\\\Cognitivo.ai\", \"name\": \"Cognitivo.ai\", \"type\": \"NODE\", \"is_conversation_start\": true, \"flows\": 1, \"rerouted\": 0, \"dropped_off\": 1, \"conversation_log_ids_rerouted\": [], \"conversation_log_ids_dropped_off\": [[\"7cee5a3e-7725-4c48-b8ba-9566de5e8bf3\", \"c0a38cc0-611f-4666-bbf7-7fdf67b7b5ad\"]], \"path_length\": 1}, {\"path\": \"Experiences\\\\Dell\\\\IT Tech Support Associate\\\\Dell\\\\IT Tech Support Associate\\\\Key results\\\\IT Tech Support Specialist\", \"name\": \"IT Tech Support Specialist\", \"type\": \"NODE\", \"is_conversation_start\": true, \"flows\": 1, \"rerouted\": 0, \"dropped_off\": 1, \"conversation_log_ids_rerouted\": [], \"conversation_log_ids_dropped_off\": [[\"8609f6b9-32af-4a4d-b1d5-60d97db3094d\", \"abac748c-c685-4ba7-9cd8-ac3a1b345b57\"]], \"path_length\": 6}, {\"path\": \"Experiences\\\\Sicredi\", \"name\": \"Sicredi\", \"type\": \"NODE\", \"is_conversation_start\": true, \"flows\": 1, \"rerouted\": 0, \"dropped_off\": 0, \"conversation_log_ids_rerouted\": [], \"conversation_log_ids_dropped_off\": [], \"path_length\": 1}, {\"path\": \"Experiences\\\\Sicredi\\\\Key results\", \"name\": \"Key results\", \"type\": \"NODE\", \"is_conversation_start\": true, \"flows\": 1, \"rerouted\": 0, \"dropped_off\": 1, \"conversation_log_ids_rerouted\": [], \"conversation_log_ids_dropped_off\": [[\"cf1e1348-b187-4382-bf72-e16ec152437c\", \"afa6ae3b-85a3-4694-afc6-fa4c9d9cd219\"]], \"path_length\": 2}]);\n",
       "                    chart.on(\"export\",function(e){\n",
       "                        var selection = JSON.stringify(e.selection).replace(/\"/g , \"'\");\n",
       "                        IPython.notebook.kernel.execute(\"selection = \" + selection);\n",
       "                    });\n",
       "                });\n",
       "            })(element);\n",
       "        "
      ],
      "text/plain": [
       "<IPython.core.display.Javascript object>"
      ]
     },
     "metadata": {},
     "output_type": "display_data"
    }
   ],
   "source": [
    "flow.draw_flowchart()"
   ]
  }
 ],
 "metadata": {
  "kernelspec": {
   "display_name": "Python 3",
   "language": "python",
   "name": "python3"
  },
  "language_info": {
   "codemirror_mode": {
    "name": "ipython",
    "version": 3
   },
   "file_extension": ".py",
   "mimetype": "text/x-python",
   "name": "python",
   "nbconvert_exporter": "python",
   "pygments_lexer": "ipython3",
   "version": "3.8.3"
  }
 },
 "nbformat": 4,
 "nbformat_minor": 4
}
