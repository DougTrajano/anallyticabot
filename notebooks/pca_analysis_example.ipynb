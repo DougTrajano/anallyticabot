{
 "cells": [
  {
   "cell_type": "markdown",
   "metadata": {},
   "source": [
    "# PCA Analysis\n",
    "\n",
    "\n",
    "\n",
    "## Index\n",
    "\n",
    "- [Load libs and define parameters](#Load-libs-and-define-parameters)\n",
    "- [Get Watson Assistant's intents](#Get-Watson-Assistant's-intents)\n",
    "- [Data Preprocessing](#Data-Preprocessing)\n",
    "- [Examples PCA](#Examples-PCA)\n",
    "- [Intents PCA](#Intents-PCA)"
   ]
  },
  {
   "cell_type": "markdown",
   "metadata": {},
   "source": [
    "## Load libs and define parameters"
   ]
  },
  {
   "cell_type": "code",
   "execution_count": null,
   "metadata": {},
   "outputs": [],
   "source": [
    "## Add root path\n",
    "import os,sys,inspect\n",
    "currentdir = os.path.dirname(os.path.abspath(inspect.getfile(inspect.currentframe())))\n",
    "parentdir = os.path.dirname(currentdir)\n",
    "sys.path.insert(0,parentdir) "
   ]
  },
  {
   "cell_type": "code",
   "execution_count": null,
   "metadata": {},
   "outputs": [],
   "source": [
    "# Imports\n",
    "from connectors.watson_assistant import WatsonCon\n",
    "from intents.pca_analysis import ExamplesPCA, IntentsPCA"
   ]
  },
  {
   "cell_type": "code",
   "execution_count": null,
   "metadata": {},
   "outputs": [],
   "source": [
    "# Parameters\n",
    "parameters = {\n",
    "    \"watson\": {\n",
    "        \"apikey\": None,\n",
    "        \"skill_id\": None,\n",
    "        \"version\": \"2020-04-01\"\n",
    "    },\n",
    "    \"htmls\": {\n",
    "        \"intents\": \"intents_analysis.html\",\n",
    "        \"examples\": \"examples_analysis.html\"\n",
    "    }\n",
    "}"
   ]
  },
  {
   "cell_type": "markdown",
   "metadata": {},
   "source": [
    "## Get Watson Assistant's intents"
   ]
  },
  {
   "cell_type": "code",
   "execution_count": null,
   "metadata": {},
   "outputs": [],
   "source": [
    "wa = WatsonCon(watson_skill_id=parameters[\"watson\"][\"skill_id\"],\n",
    "               watson_apikey=parameters[\"watson\"][\"apikey\"],\n",
    "               watson_version=parameters[\"watson\"][\"version\"])"
   ]
  },
  {
   "cell_type": "code",
   "execution_count": null,
   "metadata": {},
   "outputs": [],
   "source": [
    "wa.get_workspace()\n",
    "data = wa.get_intents()"
   ]
  },
  {
   "cell_type": "markdown",
   "metadata": {},
   "source": [
    "## Data Preprocessing"
   ]
  },
  {
   "cell_type": "code",
   "execution_count": null,
   "metadata": {},
   "outputs": [],
   "source": [
    "import nltk\n",
    "from intents.nlp_utils.text_preprocessing import normalize_text\n",
    "stopwords = nltk.corpus.stopwords.words('portuguese')"
   ]
  },
  {
   "cell_type": "code",
   "execution_count": null,
   "metadata": {},
   "outputs": [],
   "source": [
    "data[\"examples\"] = [normalize_text(example, stopwords) for example in data[\"examples\"]]"
   ]
  },
  {
   "cell_type": "markdown",
   "metadata": {},
   "source": [
    "## Intents PCA\n",
    "\n",
    "In this part, we will call the function `IntentsPCA`."
   ]
  },
  {
   "cell_type": "code",
   "execution_count": null,
   "metadata": {},
   "outputs": [],
   "source": [
    "IntentsPCA(examples=data[\"examples\"], intents=data[\"intents\"],\n",
    "           export_to_html=parameters[\"htmls\"][\"intents\"])"
   ]
  },
  {
   "cell_type": "markdown",
   "metadata": {},
   "source": [
    "## Examples PCA\n",
    "\n",
    "In this part, we will call the function `ExamplesPCA`."
   ]
  },
  {
   "cell_type": "code",
   "execution_count": null,
   "metadata": {},
   "outputs": [],
   "source": [
    "ExamplesPCA(examples=data[\"examples\"], intents=data[\"intents\"],\n",
    "            export_to_html=parameters[\"htmls\"][\"examples\"])"
   ]
  }
 ],
 "metadata": {
  "kernelspec": {
   "display_name": "Python 3",
   "language": "python",
   "name": "python3"
  },
  "language_info": {
   "codemirror_mode": {
    "name": "ipython",
    "version": 3
   },
   "file_extension": ".py",
   "mimetype": "text/x-python",
   "name": "python",
   "nbconvert_exporter": "python",
   "pygments_lexer": "ipython3",
   "version": "3.8.3"
  }
 },
 "nbformat": 4,
 "nbformat_minor": 4
}
