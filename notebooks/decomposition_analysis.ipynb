{
 "cells": [
  {
   "cell_type": "markdown",
   "metadata": {},
   "source": [
    "# Decomposition Analysis\n",
    "\n",
    "\n",
    "\n",
    "## Index\n",
    "\n",
    "- [Load libs and define parameters](#Load-libs-and-define-parameters)\n",
    "- [Get Watson Assistant's intents](#Get-Watson-Assistant's-intents)\n",
    "- [Data Preprocessing](#Data-Preprocessing)\n",
    "- [Examples PCA](#Examples-PCA)\n",
    "- [Intents PCA](#Intents-PCA)"
   ]
  },
  {
   "cell_type": "markdown",
   "metadata": {},
   "source": [
    "## Load libs and define parameters"
   ]
  },
  {
   "cell_type": "code",
   "execution_count": null,
   "metadata": {},
   "outputs": [],
   "source": [
    "## Add root path\n",
    "import os,sys,inspect\n",
    "currentdir = os.path.dirname(os.path.abspath(inspect.getfile(inspect.currentframe())))\n",
    "parentdir = os.path.dirname(currentdir)\n",
    "sys.path.insert(0,parentdir)"
   ]
  },
  {
   "cell_type": "code",
   "execution_count": null,
   "metadata": {},
   "outputs": [],
   "source": [
    "# Imports\n",
    "from connectors.watson_assistant import WatsonCon\n",
    "from intents.decomposition_analysis import ExamplesDA, IntentsDA"
   ]
  },
  {
   "cell_type": "code",
   "execution_count": null,
   "metadata": {},
   "outputs": [],
   "source": [
    "# Parameters\n",
    "parameters = {\n",
    "    \"watson\": {\n",
    "        \"apikey\": None,\n",
    "        \"skill_id\": None,\n",
    "        \"version\": None\n",
    "    },\n",
    "    \"htmls\": {\n",
    "        \"intents\": \"intents_analysis.html\",\n",
    "        \"examples\": \"examples_analysis.html\"\n",
    "    },\n",
    "    \"stopwords_file\": \"stopwords_ptBR.txt\",\n",
    "    \"decomposition_algorithm\": \"pca\" # \"pca\", \"tsne\" or \"truncatedsvd\"\n",
    "}"
   ]
  },
  {
   "cell_type": "markdown",
   "metadata": {},
   "source": [
    "## Get Watson Assistant's intents"
   ]
  },
  {
   "cell_type": "code",
   "execution_count": null,
   "metadata": {},
   "outputs": [],
   "source": [
    "wa = WatsonCon(watson_skill_id=parameters[\"watson\"][\"skill_id\"],\n",
    "               watson_apikey=parameters[\"watson\"][\"apikey\"],\n",
    "               watson_version=parameters[\"watson\"][\"version\"])\n",
    "\n",
    "wa.get_workspace()\n",
    "\n",
    "data = wa.get_intents()"
   ]
  },
  {
   "cell_type": "markdown",
   "metadata": {},
   "source": [
    "## Intents Analysis\n",
    "\n",
    "In this part, we will create an object of `IntentsDA` class."
   ]
  },
  {
   "cell_type": "code",
   "execution_count": null,
   "metadata": {},
   "outputs": [],
   "source": [
    "pca_i = IntentsDA(examples=data[\"examples\"], intents=data[\"intents\"],\n",
    "                  decomposition_method=parameters[\"decomposition_algorithm\"])\n",
    "\n",
    "pca_i.text_processing(stopwords=True, stopwords_file=parameters[\"stopwords_file\"])\n",
    "pca_i.export_html(file_name=parameters[\"htmls\"][\"intents\"])\n",
    "pca_i.display()"
   ]
  },
  {
   "cell_type": "markdown",
   "metadata": {},
   "source": [
    "## Examples Analysis\n",
    "\n",
    "In this part, we will create an object of `ExamplesDA` class."
   ]
  },
  {
   "cell_type": "code",
   "execution_count": null,
   "metadata": {},
   "outputs": [],
   "source": [
    "pca_e = ExamplesDA(examples=data[\"examples\"], intents=data[\"intents\"],\n",
    "                   decomposition_method=parameters[\"decomposition_algorithm\"])\n",
    "\n",
    "pca_e.text_processing(stopwords=True, stopwords_file=parameters[\"stopwords_file\"])\n",
    "pca_e.export_html(file_name=parameters[\"htmls\"][\"examples\"])\n",
    "pca_e.display()"
   ]
  }
 ],
 "metadata": {
  "kernelspec": {
   "display_name": "Python 3",
   "language": "python",
   "name": "python3"
  },
  "language_info": {
   "codemirror_mode": {
    "name": "ipython",
    "version": 3
   },
   "file_extension": ".py",
   "mimetype": "text/x-python",
   "name": "python",
   "nbconvert_exporter": "python",
   "pygments_lexer": "ipython3",
   "version": "3.8.3"
  }
 },
 "nbformat": 4,
 "nbformat_minor": 4
}
